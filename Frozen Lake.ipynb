{
 "cells": [
  {
   "cell_type": "code",
   "execution_count": 17,
   "metadata": {},
   "outputs": [],
   "source": [
    "import numpy as np\n",
    "import gym # pip intall gym\n",
    "import random"
   ]
  },
  {
   "cell_type": "code",
   "execution_count": 18,
   "metadata": {},
   "outputs": [
    {
     "name": "stdout",
     "output_type": "stream",
     "text": [
      "Requirement already satisfied: gym in c:\\python310\\lib\\site-packages (0.26.2)\n",
      "Requirement already satisfied: numpy>=1.18.0 in c:\\python310\\lib\\site-packages (from gym) (1.24.3)\n",
      "Requirement already satisfied: cloudpickle>=1.2.0 in c:\\python310\\lib\\site-packages (from gym) (2.2.1)\n",
      "Requirement already satisfied: gym-notices>=0.0.4 in c:\\python310\\lib\\site-packages (from gym) (0.0.8)\n",
      "Note: you may need to restart the kernel to use updated packages.\n"
     ]
    },
    {
     "name": "stderr",
     "output_type": "stream",
     "text": [
      "WARNING: Ignoring invalid distribution -ip (c:\\python310\\lib\\site-packages)\n",
      "WARNING: Ignoring invalid distribution -ip (c:\\python310\\lib\\site-packages)\n",
      "WARNING: Ignoring invalid distribution -ip (c:\\python310\\lib\\site-packages)\n",
      "WARNING: Ignoring invalid distribution -ip (c:\\python310\\lib\\site-packages)\n",
      "WARNING: Ignoring invalid distribution -ip (c:\\python310\\lib\\site-packages)\n",
      "WARNING: Ignoring invalid distribution -ip (c:\\python310\\lib\\site-packages)\n",
      "\n",
      "[notice] A new release of pip available: 22.3.1 -> 23.1.2\n",
      "[notice] To update, run: python.exe -m pip install --upgrade pip\n"
     ]
    }
   ],
   "source": [
    "pip install gym"
   ]
  },
  {
   "cell_type": "code",
   "execution_count": 19,
   "metadata": {},
   "outputs": [],
   "source": [
    "env = gym.make('FrozenLake-v1', is_slippery = True)"
   ]
  },
  {
   "cell_type": "code",
   "execution_count": 20,
   "metadata": {},
   "outputs": [
    {
     "data": {
      "text/plain": [
       "array([[0., 0., 0., 0.],\n",
       "       [0., 0., 0., 0.],\n",
       "       [0., 0., 0., 0.],\n",
       "       [0., 0., 0., 0.],\n",
       "       [0., 0., 0., 0.],\n",
       "       [0., 0., 0., 0.],\n",
       "       [0., 0., 0., 0.],\n",
       "       [0., 0., 0., 0.],\n",
       "       [0., 0., 0., 0.],\n",
       "       [0., 0., 0., 0.],\n",
       "       [0., 0., 0., 0.],\n",
       "       [0., 0., 0., 0.],\n",
       "       [0., 0., 0., 0.],\n",
       "       [0., 0., 0., 0.],\n",
       "       [0., 0., 0., 0.],\n",
       "       [0., 0., 0., 0.]])"
      ]
     },
     "execution_count": 20,
     "metadata": {},
     "output_type": "execute_result"
    }
   ],
   "source": [
    "action_space_size = env.action_space.n\n",
    "state_space_size = env.observation_space.n\n",
    "\n",
    "qtable = np.zeros((state_space_size, action_space_size))\n",
    "qtable\n"
   ]
  },
  {
   "cell_type": "code",
   "execution_count": 21,
   "metadata": {},
   "outputs": [],
   "source": [
    "#Hyper Parameters\n",
    "\n",
    "total_episodes = 10000\n",
    "learning_rate = 0.2 # 0-1\n",
    "max_steps = 100\n",
    "gamma = 0.8\n",
    "\n",
    "epsilon = 1\n",
    "max_epsilon = 1\n",
    "min_epsilon = 0.01\n",
    "decay_rate = 0.001"
   ]
  },
  {
   "cell_type": "code",
   "execution_count": 22,
   "metadata": {},
   "outputs": [
    {
     "name": "stdout",
     "output_type": "stream",
     "text": [
      "Score: 0.2303\n"
     ]
    }
   ],
   "source": [
    "rewards = []\n",
    "\n",
    "for episode in range(total_episodes):\n",
    "    state = env.reset()[0]\n",
    "    step = 0\n",
    "    done = False\n",
    "    total_rewards = 0\n",
    "    \n",
    "    for step in range(max_steps):\n",
    "        if random.uniform(0,1) > epsilon:\n",
    "            action = np.argmax(qtable[state,:]) #Exploit\n",
    "        else:\n",
    "            action = env.action_space.sample() #Explore\n",
    "    \n",
    "        temp = env.step(action)\n",
    "        \n",
    "        new_state = temp[0]\n",
    "        reward = temp[1]\n",
    "        done = temp[2]\n",
    "        \n",
    "        max_new_state = np.max(qtable[new_state,:])\n",
    "        \n",
    "        qtable[state,action] = qtable[state,action] + learning_rate*(reward+gamma*max_new_state-qtable[state,action])\n",
    "        \n",
    "        total_rewards += reward\n",
    "        \n",
    "        state = new_state\n",
    "        if done:\n",
    "            break\n",
    "        \n",
    "    epsilon = min_epsilon + (max_epsilon - min_epsilon)*np.exp(-decay_rate*episode)\n",
    "    rewards.append(total_rewards)\n",
    "        \n",
    "print(\"Score:\", str(sum(rewards)/total_episodes))\n"
   ]
  },
  {
   "cell_type": "code",
   "execution_count": 23,
   "metadata": {},
   "outputs": [
    {
     "name": "stdout",
     "output_type": "stream",
     "text": [
      "[[0.00373948 0.00300461 0.01141294 0.00359313]\n",
      " [0.0032788  0.00334808 0.00301822 0.01062231]\n",
      " [0.00469419 0.01216637 0.0045998  0.00465034]\n",
      " [0.002998   0.0030386  0.0014864  0.00818072]\n",
      " [0.0186322  0.00713858 0.01417029 0.00575602]\n",
      " [0.         0.         0.         0.        ]\n",
      " [0.00401824 0.07234801 0.00576275 0.00585019]\n",
      " [0.         0.         0.         0.        ]\n",
      " [0.00744529 0.01095292 0.01117447 0.03017486]\n",
      " [0.04179768 0.12212858 0.03791453 0.04184608]\n",
      " [0.31980846 0.04135911 0.06255965 0.05046628]\n",
      " [0.         0.         0.         0.        ]\n",
      " [0.         0.         0.         0.        ]\n",
      " [0.03303603 0.07546743 0.23209169 0.0795683 ]\n",
      " [0.23915507 0.22122132 0.62647052 0.20233655]\n",
      " [0.         0.         0.         0.        ]]\n"
     ]
    }
   ],
   "source": [
    "print(qtable)"
   ]
  },
  {
   "cell_type": "code",
   "execution_count": 24,
   "metadata": {},
   "outputs": [
    {
     "name": "stdout",
     "output_type": "stream",
     "text": [
      "0 RIGHT\n",
      "1 UP\n",
      "2 DOWN\n",
      "3 UP\n",
      "4 LEFT\n",
      "5 LEFT\n",
      "6 DOWN\n",
      "7 LEFT\n",
      "8 UP\n",
      "9 DOWN\n",
      "10 LEFT\n",
      "11 LEFT\n",
      "12 LEFT\n",
      "13 RIGHT\n",
      "14 RIGHT\n",
      "15 LEFT\n"
     ]
    }
   ],
   "source": [
    "actions_=[\"LEFT\",\"DOWN\",\"RIGHT\", \"UP\"]\n",
    "\n",
    "\n",
    "\n",
    "\n",
    "for i in range(16):\n",
    "    print(i,actions_[np.argmax(qtable[i,:])])"
   ]
  },
  {
   "cell_type": "code",
   "execution_count": 25,
   "metadata": {},
   "outputs": [
    {
     "name": "stdout",
     "output_type": "stream",
     "text": [
      "Requirement already satisfied: pygame in c:\\python310\\lib\\site-packages (2.4.0)\n"
     ]
    },
    {
     "name": "stderr",
     "output_type": "stream",
     "text": [
      "WARNING: Ignoring invalid distribution -ip (c:\\python310\\lib\\site-packages)\n",
      "WARNING: Ignoring invalid distribution -ip (c:\\python310\\lib\\site-packages)\n",
      "WARNING: Ignoring invalid distribution -ip (c:\\python310\\lib\\site-packages)\n",
      "WARNING: Ignoring invalid distribution -ip (c:\\python310\\lib\\site-packages)\n",
      "WARNING: Ignoring invalid distribution -ip (c:\\python310\\lib\\site-packages)\n",
      "WARNING: Ignoring invalid distribution -ip (c:\\python310\\lib\\site-packages)\n",
      "\n",
      "[notice] A new release of pip available: 22.3.1 -> 23.1.2\n",
      "[notice] To update, run: python.exe -m pip install --upgrade pip\n"
     ]
    }
   ],
   "source": [
    "import time\n",
    "!pip install pygame"
   ]
  },
  {
   "cell_type": "code",
   "execution_count": 26,
   "metadata": {},
   "outputs": [
    {
     "name": "stdout",
     "output_type": "stream",
     "text": [
      "[0.00373948 0.00300461 0.01141294 0.00359313]\n",
      "2\n",
      "[0.0032788  0.00334808 0.00301822 0.01062231]\n",
      "3\n",
      "[0.0032788  0.00334808 0.00301822 0.01062231]\n",
      "3\n",
      "[0.0032788  0.00334808 0.00301822 0.01062231]\n",
      "3\n",
      "[0.0032788  0.00334808 0.00301822 0.01062231]\n",
      "3\n",
      "[0.0032788  0.00334808 0.00301822 0.01062231]\n",
      "3\n",
      "[0.0032788  0.00334808 0.00301822 0.01062231]\n",
      "3\n",
      "[0.0032788  0.00334808 0.00301822 0.01062231]\n",
      "3\n",
      "[0.0032788  0.00334808 0.00301822 0.01062231]\n",
      "3\n",
      "[0.0032788  0.00334808 0.00301822 0.01062231]\n",
      "3\n",
      "[0.0032788  0.00334808 0.00301822 0.01062231]\n",
      "3\n",
      "[0.0032788  0.00334808 0.00301822 0.01062231]\n",
      "3\n",
      "[0.0032788  0.00334808 0.00301822 0.01062231]\n",
      "3\n",
      "[0.0032788  0.00334808 0.00301822 0.01062231]\n",
      "3\n",
      "[0.0032788  0.00334808 0.00301822 0.01062231]\n",
      "3\n",
      "[0.0032788  0.00334808 0.00301822 0.01062231]\n",
      "3\n",
      "[0.0032788  0.00334808 0.00301822 0.01062231]\n",
      "3\n",
      "[0.0032788  0.00334808 0.00301822 0.01062231]\n",
      "3\n",
      "[0.0032788  0.00334808 0.00301822 0.01062231]\n",
      "3\n",
      "[0.0032788  0.00334808 0.00301822 0.01062231]\n",
      "3\n",
      "[0.0032788  0.00334808 0.00301822 0.01062231]\n",
      "3\n",
      "[0.0032788  0.00334808 0.00301822 0.01062231]\n",
      "3\n",
      "[0.0032788  0.00334808 0.00301822 0.01062231]\n",
      "3\n",
      "[0.0032788  0.00334808 0.00301822 0.01062231]\n",
      "3\n",
      "[0.0032788  0.00334808 0.00301822 0.01062231]\n",
      "3\n"
     ]
    }
   ],
   "source": [
    "env = gym.make('FrozenLake-v1', is_slippery = False, render_mode=\"human\")\n",
    "\n",
    "\n",
    "\n",
    "observation, info = env.reset()\n",
    "step=0\n",
    "done=0\n",
    "new_state=0\n",
    "\n",
    "while done == 0 and step<25:\n",
    "\n",
    "    current_state_actions_array=qtable[new_state,:]\n",
    "    print(current_state_actions_array)\n",
    "\n",
    "    action= current_state_actions_array.argmax()\n",
    "\n",
    "    temp = env.step(action)\n",
    "    new_state = temp[0]\n",
    "    done = temp[2]\n",
    "\n",
    "    print(action)\n",
    "    time.sleep(1)\n",
    "    step=step+1\n",
    "\n",
    "env.close()"
   ]
  },
  {
   "cell_type": "code",
   "execution_count": 27,
   "metadata": {},
   "outputs": [],
   "source": [
    "qtable[state,action] = qtable[state,action] + learning_rate*(reward+gamma*max_new_state-qtable[state,action])"
   ]
  },
  {
   "cell_type": "code",
   "execution_count": 28,
   "metadata": {},
   "outputs": [
    {
     "ename": "error",
     "evalue": "display Surface quit",
     "output_type": "error",
     "traceback": [
      "\u001b[1;31m---------------------------------------------------------------------------\u001b[0m",
      "\u001b[1;31merror\u001b[0m                                     Traceback (most recent call last)",
      "Cell \u001b[1;32mIn[28], line 1\u001b[0m\n\u001b[1;32m----> 1\u001b[0m env\u001b[39m.\u001b[39;49mreset()\n\u001b[0;32m      3\u001b[0m \u001b[39mfor\u001b[39;00m episode \u001b[39min\u001b[39;00m \u001b[39mrange\u001b[39m(\u001b[39m5\u001b[39m):\n\u001b[0;32m      4\u001b[0m     state \u001b[39m=\u001b[39m env\u001b[39m.\u001b[39mreset()\n",
      "File \u001b[1;32mc:\\Python310\\lib\\site-packages\\gym\\wrappers\\time_limit.py:68\u001b[0m, in \u001b[0;36mTimeLimit.reset\u001b[1;34m(self, **kwargs)\u001b[0m\n\u001b[0;32m     59\u001b[0m \u001b[39m\u001b[39m\u001b[39m\"\"\"Resets the environment with :param:`**kwargs` and sets the number of steps elapsed to zero.\u001b[39;00m\n\u001b[0;32m     60\u001b[0m \n\u001b[0;32m     61\u001b[0m \u001b[39mArgs:\u001b[39;00m\n\u001b[1;32m   (...)\u001b[0m\n\u001b[0;32m     65\u001b[0m \u001b[39m    The reset environment\u001b[39;00m\n\u001b[0;32m     66\u001b[0m \u001b[39m\"\"\"\u001b[39;00m\n\u001b[0;32m     67\u001b[0m \u001b[39mself\u001b[39m\u001b[39m.\u001b[39m_elapsed_steps \u001b[39m=\u001b[39m \u001b[39m0\u001b[39m\n\u001b[1;32m---> 68\u001b[0m \u001b[39mreturn\u001b[39;00m \u001b[39mself\u001b[39m\u001b[39m.\u001b[39menv\u001b[39m.\u001b[39mreset(\u001b[39m*\u001b[39m\u001b[39m*\u001b[39mkwargs)\n",
      "File \u001b[1;32mc:\\Python310\\lib\\site-packages\\gym\\wrappers\\order_enforcing.py:42\u001b[0m, in \u001b[0;36mOrderEnforcing.reset\u001b[1;34m(self, **kwargs)\u001b[0m\n\u001b[0;32m     40\u001b[0m \u001b[39m\u001b[39m\u001b[39m\"\"\"Resets the environment with `kwargs`.\"\"\"\u001b[39;00m\n\u001b[0;32m     41\u001b[0m \u001b[39mself\u001b[39m\u001b[39m.\u001b[39m_has_reset \u001b[39m=\u001b[39m \u001b[39mTrue\u001b[39;00m\n\u001b[1;32m---> 42\u001b[0m \u001b[39mreturn\u001b[39;00m \u001b[39mself\u001b[39m\u001b[39m.\u001b[39menv\u001b[39m.\u001b[39mreset(\u001b[39m*\u001b[39m\u001b[39m*\u001b[39mkwargs)\n",
      "File \u001b[1;32mc:\\Python310\\lib\\site-packages\\gym\\wrappers\\env_checker.py:47\u001b[0m, in \u001b[0;36mPassiveEnvChecker.reset\u001b[1;34m(self, **kwargs)\u001b[0m\n\u001b[0;32m     45\u001b[0m     \u001b[39mreturn\u001b[39;00m env_reset_passive_checker(\u001b[39mself\u001b[39m\u001b[39m.\u001b[39menv, \u001b[39m*\u001b[39m\u001b[39m*\u001b[39mkwargs)\n\u001b[0;32m     46\u001b[0m \u001b[39melse\u001b[39;00m:\n\u001b[1;32m---> 47\u001b[0m     \u001b[39mreturn\u001b[39;00m \u001b[39mself\u001b[39m\u001b[39m.\u001b[39menv\u001b[39m.\u001b[39mreset(\u001b[39m*\u001b[39m\u001b[39m*\u001b[39mkwargs)\n",
      "File \u001b[1;32mc:\\Python310\\lib\\site-packages\\gym\\envs\\toy_text\\frozen_lake.py:266\u001b[0m, in \u001b[0;36mFrozenLakeEnv.reset\u001b[1;34m(self, seed, options)\u001b[0m\n\u001b[0;32m    263\u001b[0m \u001b[39mself\u001b[39m\u001b[39m.\u001b[39mlastaction \u001b[39m=\u001b[39m \u001b[39mNone\u001b[39;00m\n\u001b[0;32m    265\u001b[0m \u001b[39mif\u001b[39;00m \u001b[39mself\u001b[39m\u001b[39m.\u001b[39mrender_mode \u001b[39m==\u001b[39m \u001b[39m\"\u001b[39m\u001b[39mhuman\u001b[39m\u001b[39m\"\u001b[39m:\n\u001b[1;32m--> 266\u001b[0m     \u001b[39mself\u001b[39;49m\u001b[39m.\u001b[39;49mrender()\n\u001b[0;32m    267\u001b[0m \u001b[39mreturn\u001b[39;00m \u001b[39mint\u001b[39m(\u001b[39mself\u001b[39m\u001b[39m.\u001b[39ms), {\u001b[39m\"\u001b[39m\u001b[39mprob\u001b[39m\u001b[39m\"\u001b[39m: \u001b[39m1\u001b[39m}\n",
      "File \u001b[1;32mc:\\Python310\\lib\\site-packages\\gym\\envs\\toy_text\\frozen_lake.py:279\u001b[0m, in \u001b[0;36mFrozenLakeEnv.render\u001b[1;34m(self)\u001b[0m\n\u001b[0;32m    277\u001b[0m     \u001b[39mreturn\u001b[39;00m \u001b[39mself\u001b[39m\u001b[39m.\u001b[39m_render_text()\n\u001b[0;32m    278\u001b[0m \u001b[39melse\u001b[39;00m:  \u001b[39m# self.render_mode in {\"human\", \"rgb_array\"}:\u001b[39;00m\n\u001b[1;32m--> 279\u001b[0m     \u001b[39mreturn\u001b[39;00m \u001b[39mself\u001b[39;49m\u001b[39m.\u001b[39;49m_render_gui(\u001b[39mself\u001b[39;49m\u001b[39m.\u001b[39;49mrender_mode)\n",
      "File \u001b[1;32mc:\\Python310\\lib\\site-packages\\gym\\envs\\toy_text\\frozen_lake.py:349\u001b[0m, in \u001b[0;36mFrozenLakeEnv._render_gui\u001b[1;34m(self, mode)\u001b[0m\n\u001b[0;32m    346\u001b[0m pos \u001b[39m=\u001b[39m (x \u001b[39m*\u001b[39m \u001b[39mself\u001b[39m\u001b[39m.\u001b[39mcell_size[\u001b[39m0\u001b[39m], y \u001b[39m*\u001b[39m \u001b[39mself\u001b[39m\u001b[39m.\u001b[39mcell_size[\u001b[39m1\u001b[39m])\n\u001b[0;32m    347\u001b[0m rect \u001b[39m=\u001b[39m (\u001b[39m*\u001b[39mpos, \u001b[39m*\u001b[39m\u001b[39mself\u001b[39m\u001b[39m.\u001b[39mcell_size)\n\u001b[1;32m--> 349\u001b[0m \u001b[39mself\u001b[39;49m\u001b[39m.\u001b[39;49mwindow_surface\u001b[39m.\u001b[39;49mblit(\u001b[39mself\u001b[39;49m\u001b[39m.\u001b[39;49mice_img, pos)\n\u001b[0;32m    350\u001b[0m \u001b[39mif\u001b[39;00m desc[y][x] \u001b[39m==\u001b[39m \u001b[39mb\u001b[39m\u001b[39m\"\u001b[39m\u001b[39mH\u001b[39m\u001b[39m\"\u001b[39m:\n\u001b[0;32m    351\u001b[0m     \u001b[39mself\u001b[39m\u001b[39m.\u001b[39mwindow_surface\u001b[39m.\u001b[39mblit(\u001b[39mself\u001b[39m\u001b[39m.\u001b[39mhole_img, pos)\n",
      "\u001b[1;31merror\u001b[0m: display Surface quit"
     ]
    }
   ],
   "source": [
    "env.reset()\n",
    "\n",
    "for episode in range(5):\n",
    "    state = env.reset()\n",
    "    step = 0\n",
    "    done = False\n",
    "    \n",
    "    print(\"Episode:\", episode+1)\n",
    "    \n",
    "    for step in range(max_steps):\n",
    "        action = np.argmax(qtable[state,:])\n",
    "        new_state, reward, done, info = env.step(action)\n",
    "        env.render()\n",
    "        if done:\n",
    "            \n",
    "            print(\"Number of Steps:\", step)\n",
    "            break\n",
    "        state = new_state\n",
    "        \n",
    "env.close()"
   ]
  }
 ],
 "metadata": {
  "kernelspec": {
   "display_name": "Python 3",
   "language": "python",
   "name": "python3"
  },
  "language_info": {
   "codemirror_mode": {
    "name": "ipython",
    "version": 3
   },
   "file_extension": ".py",
   "mimetype": "text/x-python",
   "name": "python",
   "nbconvert_exporter": "python",
   "pygments_lexer": "ipython3",
   "version": "3.10.4"
  }
 },
 "nbformat": 4,
 "nbformat_minor": 4
}
